{
 "cells": [
  {
   "cell_type": "code",
   "execution_count": 1,
   "id": "c07ad644-a647-4d4a-aedf-18f3cb6e7cb8",
   "metadata": {},
   "outputs": [
    {
     "name": "stdin",
     "output_type": "stream",
     "text": [
      "Enter the quantity for t-shirt:  2\n",
      "Enter the quantity for mug:  3\n",
      "Enter the quantity for hat:  4\n",
      "Enter the quantity for book:  1\n",
      "Enter the quantity for keychain:  5\n"
     ]
    },
    {
     "name": "stdout",
     "output_type": "stream",
     "text": [
      "Enter the names of three products the customer wants to order (choose from t-shirt, mug, hat, book, keychain):\n"
     ]
    },
    {
     "name": "stdin",
     "output_type": "stream",
     "text": [
      "Product 1:  mug\n",
      "Product 2:  hat\n",
      "Product 3:  book\n"
     ]
    },
    {
     "name": "stdout",
     "output_type": "stream",
     "text": [
      "Customer ordered the following products:\n",
      "- hat\n",
      "- book\n",
      "- mug\n",
      "Order Statistics:\n",
      "Total Products Ordered: 3\n",
      "Percentage of Products Ordered: 60.00%\n",
      "Updated Inventory:\n",
      "t-shirt: 2\n",
      "mug: 2\n",
      "hat: 3\n",
      "book: 0\n",
      "keychain: 5\n"
     ]
    }
   ],
   "source": [
    "products=[\"t-shirt\", \"mug\", \"hat\", \"book\", \"keychain\"]\n",
    "inventory={}\n",
    "for product in products:\n",
    "    quantity = int(input(f\"Enter the quantity for {product}: \"))\n",
    "    inventory[product] = quantity\n",
    "    \n",
    "customer_orders=set()    \n",
    "print(\"Enter the names of three products the customer wants to order (choose from t-shirt, mug, hat, book, keychain):\")\n",
    "\n",
    "for i in range(3):\n",
    "    order = \"\"\n",
    "    while order not in products:\n",
    "        order = input(f\"Product {i + 1}: \")\n",
    "        if order not in products:\n",
    "            print(\"Invalid product name. Please choose from the product list.\")\n",
    "    customer_orders.add(order)\n",
    "    \n",
    "print(\"Customer ordered the following products:\")\n",
    "for item in customer_orders:\n",
    "    print(f\"- {item}\")\n",
    "\n",
    "total_products_ordered = len(customer_orders)\n",
    "percentage_ordered = (total_products_ordered / len(products)) * 100\n",
    "order_status = (total_products_ordered, percentage_ordered)\n",
    "\n",
    "print(\"Order Statistics:\")\n",
    "print(f\"Total Products Ordered: {order_status[0]}\")\n",
    "print(f\"Percentage of Products Ordered: {order_status[1]:.2f}%\")\n",
    "\n",
    "for product in customer_orders:\n",
    "    if inventory[product] > 0:\n",
    "        inventory[product] -=1\n",
    "\n",
    "print(\"Updated Inventory:\")\n",
    "for product, quantity in inventory.items():\n",
    "    print(f\"{product}: {quantity}\")\n",
    "\n"
   ]
  },
  {
   "cell_type": "code",
   "execution_count": 1,
   "id": "48a7a09f-9378-4ad8-8ec6-bfc429e37e1b",
   "metadata": {},
   "outputs": [
    {
     "name": "stdout",
     "output_type": "stream",
     "text": [
      "End\n"
     ]
    }
   ],
   "source": [
    "print(\"End\")"
   ]
  }
 ],
 "metadata": {
  "kernelspec": {
   "display_name": "Python [conda env:base] *",
   "language": "python",
   "name": "conda-base-py"
  },
  "language_info": {
   "codemirror_mode": {
    "name": "ipython",
    "version": 3
   },
   "file_extension": ".py",
   "mimetype": "text/x-python",
   "name": "python",
   "nbconvert_exporter": "python",
   "pygments_lexer": "ipython3",
   "version": "3.12.7"
  }
 },
 "nbformat": 4,
 "nbformat_minor": 5
}
